{
 "cells": [
  {
   "cell_type": "code",
   "execution_count": 1,
   "id": "64094b2d-b127-416d-8c89-d8f533238a60",
   "metadata": {},
   "outputs": [],
   "source": [
    "import sqlite3\n",
    "import pandas as pd\n",
    "import matplotlib.pyplot as plt"
   ]
  },
  {
   "cell_type": "code",
   "execution_count": null,
   "id": "8c6d4a9f-4fde-400f-be4c-1a07c1ae3e6f",
   "metadata": {},
   "outputs": [],
   "source": [
    "#1.Create or Connect to Database and Insert Sample Data"
   ]
  },
  {
   "cell_type": "code",
   "execution_count": 2,
   "id": "3c43a57a-0097-414b-a929-c58be877512e",
   "metadata": {},
   "outputs": [],
   "source": [
    "conn = sqlite3.connect(\"sales_data.db\")\n",
    "cursor = conn.cursor()\n",
    "\n",
    "# Create table\n",
    "cursor.execute('''\n",
    "CREATE TABLE IF NOT EXISTS sales (\n",
    "    id INTEGER PRIMARY KEY AUTOINCREMENT,\n",
    "    product TEXT,\n",
    "    quantity INTEGER,\n",
    "    price REAL\n",
    ")\n",
    "''')\n",
    "\n",
    "# Insert sample data\n",
    "sample_data = [\n",
    "    ('Apple', 10, 1.50),\n",
    "    ('Banana', 20, 0.80),\n",
    "    ('Orange', 15, 1.20),\n",
    "    ('Apple', 5, 1.50),\n",
    "    ('Banana', 10, 0.80),\n",
    "    ('Orange', 10, 1.20)\n",
    "]\n",
    "cursor.executemany(\"INSERT INTO sales (product, quantity, price) VALUES (?, ?, ?)\", sample_data)\n",
    "conn.commit()"
   ]
  },
  {
   "cell_type": "code",
   "execution_count": null,
   "id": "b5ee6bb0-d120-4bf2-b0ab-0638fe3b9981",
   "metadata": {},
   "outputs": [],
   "source": [
    "#2. Run SQL Query and Load into Pandas"
   ]
  },
  {
   "cell_type": "code",
   "execution_count": 3,
   "id": "261d5919-b525-4d40-9fce-d0433d443ac5",
   "metadata": {},
   "outputs": [],
   "source": [
    "query = '''\n",
    "SELECT \n",
    "    product, \n",
    "    SUM(quantity) AS total_qty, \n",
    "    SUM(quantity * price) AS revenue \n",
    "FROM sales \n",
    "GROUP BY product\n",
    "'''\n",
    "\n",
    "df = pd.read_sql_query(query, conn)"
   ]
  },
  {
   "cell_type": "code",
   "execution_count": null,
   "id": "edf59318-11ce-47c5-97ec-b55977d06a73",
   "metadata": {},
   "outputs": [],
   "source": [
    "#3. Print Results"
   ]
  },
  {
   "cell_type": "code",
   "execution_count": 4,
   "id": "b35f71ff-dce7-46ef-b5ce-09527ba6f085",
   "metadata": {},
   "outputs": [
    {
     "name": "stdout",
     "output_type": "stream",
     "text": [
      "=== Sales Summary ===\n",
      "  product  total_qty  revenue\n",
      "0   Apple         15     22.5\n",
      "1  Banana         30     24.0\n",
      "2  Orange         25     30.0\n"
     ]
    }
   ],
   "source": [
    "print(\"=== Sales Summary ===\")\n",
    "print(df)"
   ]
  },
  {
   "cell_type": "code",
   "execution_count": null,
   "id": "27bb7ef6-6670-4483-aa34-6f611ededdf6",
   "metadata": {},
   "outputs": [],
   "source": [
    "#4. Plot and Save Bar Chart"
   ]
  },
  {
   "cell_type": "code",
   "execution_count": 16,
   "id": "e846bbc6-5db6-49d8-9ea8-c83af26d22a2",
   "metadata": {},
   "outputs": [
    {
     "data": {
      "image/png": "[encoded data removed]",
      "text/plain": [
       "<Figure size 640x480 with 1 Axes>"
      ]
     },
     "metadata": {},
     "output_type": "display_data"
    }
   ],
   "source": [
    "df.plot(kind='bar', x='product', y='revenue', color='royalblue', legend=False)\n",
    "plt.title(\"Revenue by Product\")\n",
    "plt.ylabel(\"Revenue ($)\")\n",
    "plt.tight_layout()\n",
    "plt.savefig(\"sales_chart.png\")  # Optional\n",
    "plt.show()"
   ]
  },
  {
   "cell_type": "code",
   "execution_count": null,
   "id": "68e8a3a9-031c-4208-9b10-eece2791520e",
   "metadata": {},
   "outputs": [],
   "source": []
  }
 ],
 "metadata": {
  "kernelspec": {
   "display_name": "Python 3 (ipykernel)",
   "language": "python",
   "name": "python3"
  },
  "language_info": {
   "codemirror_mode": {
    "name": "ipython",
    "version": 3
   },
   "file_extension": ".py",
   "mimetype": "text/x-python",
   "name": "python",
   "nbconvert_exporter": "python",
   "pygments_lexer": "ipython3",
   "version": "3.13.3"
  }
 },
 "nbformat": 4,
 "nbformat_minor": 5
}
